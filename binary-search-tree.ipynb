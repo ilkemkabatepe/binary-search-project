{
 "cells": [
  {
   "cell_type": "markdown",
   "id": "d4521d24-be7d-4868-9725-4ee8d3060f7a",
   "metadata": {},
   "source": [
    "[7, 5, 1, 8, 3, 6, 0, 9, 4, 2] dizisinin Binary-Search-Tree aşamalarını yazınız."
   ]
  },
  {
   "cell_type": "markdown",
   "id": "0a1a0dcb-b2d7-4852-8039-eede0d80f082",
   "metadata": {},
   "source": [
    "Array'de root 5 olarak seçiyoruz. Root'un sağında kendisinden büyük, solunda kendisinden küçük elemanlar yer alacak şekilde tree'yi oluşturuyoruz.\n",
    "\n",
    "                          5\n",
    "                      /       \\\n",
    "                     1         7\n",
    "                   /  \\       / \\\n",
    "                  0    3     6   8\n",
    "                      / \\         \\\n",
    "                     2   4         9\n",
    "                                "
   ]
  }
 ],
 "metadata": {
  "kernelspec": {
   "display_name": "Python 3 (ipykernel)",
   "language": "python",
   "name": "python3"
  },
  "language_info": {
   "codemirror_mode": {
    "name": "ipython",
    "version": 3
   },
   "file_extension": ".py",
   "mimetype": "text/x-python",
   "name": "python",
   "nbconvert_exporter": "python",
   "pygments_lexer": "ipython3",
   "version": "3.9.13"
  }
 },
 "nbformat": 4,
 "nbformat_minor": 5
}
